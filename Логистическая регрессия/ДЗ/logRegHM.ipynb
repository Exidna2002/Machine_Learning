{
 "nbformat": 4,
 "nbformat_minor": 0,
 "metadata": {
  "colab": {
   "provenance": []
  },
  "kernelspec": {
   "name": "python3",
   "display_name": "Python 3"
  },
  "language_info": {
   "name": "python"
  }
 },
 "cells": [
  {
   "cell_type": "code",
   "execution_count": 11,
   "metadata": {
    "id": "jC0VE8Szm8Rd"
   },
   "outputs": [],
   "source": [
    "import numpy as np\n",
    "import pandas as pd\n",
    "import scipy.stats \n",
    "import matplotlib.pyplot as plt"
   ]
  },
  {
   "cell_type": "code",
   "source": [
    "#Скачал файл из другого источника, вместо nan были знаки вопроса, поэтому написал небольшой скрипт, который убрал все строки с \"пустыми\" значениями, не используя pandas. \n",
    "#Надеюсь это можно считать за альтернативный способ работы с пропусками ) \n",
    "'''\n",
    "f = open('desktop/adult.csv')\n",
    "list_ = []\n",
    "for i in f:\n",
    "    if '?' not in i:\n",
    "        list_.append(i)\n",
    "f.close()\n",
    "\n",
    "my_file = open('desktop/newAdult.csv', 'w+')\n",
    "for i in list_:\n",
    "    my_file.write(i)\n",
    "my_file.close()\n",
    "'''\n",
    "data = pd.read_csv('newAdult.csv')\n",
    "data.head()"
   ],
   "metadata": {
    "colab": {
     "base_uri": "https://localhost:8080/",
     "height": 206
    },
    "id": "c-odNgETm9NO",
    "outputId": "5dd79d2b-5289-4ef6-b53a-7545ce19b079"
   },
   "execution_count": 12,
   "outputs": [
    {
     "data": {
      "text/plain": "   age  workclass  fnlwgt     education  educational-num      marital-status  \\\n0   25    Private  226802          11th                7       Never-married   \n1   38    Private   89814       HS-grad                9  Married-civ-spouse   \n2   28  Local-gov  336951    Assoc-acdm               12  Married-civ-spouse   \n3   44    Private  160323  Some-college               10  Married-civ-spouse   \n4   34    Private  198693          10th                6       Never-married   \n\n          occupation   relationship   race gender  capital-gain  capital-loss  \\\n0  Machine-op-inspct      Own-child  Black   Male             0             0   \n1    Farming-fishing        Husband  White   Male             0             0   \n2    Protective-serv        Husband  White   Male             0             0   \n3  Machine-op-inspct        Husband  Black   Male          7688             0   \n4      Other-service  Not-in-family  White   Male             0             0   \n\n   hours-per-week native-country income  \n0              40  United-States  <=50K  \n1              50  United-States  <=50K  \n2              40  United-States   >50K  \n3              40  United-States   >50K  \n4              30  United-States  <=50K  ",
      "text/html": "<div>\n<style scoped>\n    .dataframe tbody tr th:only-of-type {\n        vertical-align: middle;\n    }\n\n    .dataframe tbody tr th {\n        vertical-align: top;\n    }\n\n    .dataframe thead th {\n        text-align: right;\n    }\n</style>\n<table border=\"1\" class=\"dataframe\">\n  <thead>\n    <tr style=\"text-align: right;\">\n      <th></th>\n      <th>age</th>\n      <th>workclass</th>\n      <th>fnlwgt</th>\n      <th>education</th>\n      <th>educational-num</th>\n      <th>marital-status</th>\n      <th>occupation</th>\n      <th>relationship</th>\n      <th>race</th>\n      <th>gender</th>\n      <th>capital-gain</th>\n      <th>capital-loss</th>\n      <th>hours-per-week</th>\n      <th>native-country</th>\n      <th>income</th>\n    </tr>\n  </thead>\n  <tbody>\n    <tr>\n      <th>0</th>\n      <td>25</td>\n      <td>Private</td>\n      <td>226802</td>\n      <td>11th</td>\n      <td>7</td>\n      <td>Never-married</td>\n      <td>Machine-op-inspct</td>\n      <td>Own-child</td>\n      <td>Black</td>\n      <td>Male</td>\n      <td>0</td>\n      <td>0</td>\n      <td>40</td>\n      <td>United-States</td>\n      <td>&lt;=50K</td>\n    </tr>\n    <tr>\n      <th>1</th>\n      <td>38</td>\n      <td>Private</td>\n      <td>89814</td>\n      <td>HS-grad</td>\n      <td>9</td>\n      <td>Married-civ-spouse</td>\n      <td>Farming-fishing</td>\n      <td>Husband</td>\n      <td>White</td>\n      <td>Male</td>\n      <td>0</td>\n      <td>0</td>\n      <td>50</td>\n      <td>United-States</td>\n      <td>&lt;=50K</td>\n    </tr>\n    <tr>\n      <th>2</th>\n      <td>28</td>\n      <td>Local-gov</td>\n      <td>336951</td>\n      <td>Assoc-acdm</td>\n      <td>12</td>\n      <td>Married-civ-spouse</td>\n      <td>Protective-serv</td>\n      <td>Husband</td>\n      <td>White</td>\n      <td>Male</td>\n      <td>0</td>\n      <td>0</td>\n      <td>40</td>\n      <td>United-States</td>\n      <td>&gt;50K</td>\n    </tr>\n    <tr>\n      <th>3</th>\n      <td>44</td>\n      <td>Private</td>\n      <td>160323</td>\n      <td>Some-college</td>\n      <td>10</td>\n      <td>Married-civ-spouse</td>\n      <td>Machine-op-inspct</td>\n      <td>Husband</td>\n      <td>Black</td>\n      <td>Male</td>\n      <td>7688</td>\n      <td>0</td>\n      <td>40</td>\n      <td>United-States</td>\n      <td>&gt;50K</td>\n    </tr>\n    <tr>\n      <th>4</th>\n      <td>34</td>\n      <td>Private</td>\n      <td>198693</td>\n      <td>10th</td>\n      <td>6</td>\n      <td>Never-married</td>\n      <td>Other-service</td>\n      <td>Not-in-family</td>\n      <td>White</td>\n      <td>Male</td>\n      <td>0</td>\n      <td>0</td>\n      <td>30</td>\n      <td>United-States</td>\n      <td>&lt;=50K</td>\n    </tr>\n  </tbody>\n</table>\n</div>"
     },
     "execution_count": 12,
     "metadata": {},
     "output_type": "execute_result"
    }
   ]
  },
  {
   "cell_type": "code",
   "source": [
    "data.info()"
   ],
   "metadata": {
    "colab": {
     "base_uri": "https://localhost:8080/"
    },
    "id": "0pIqCntSpRr0",
    "outputId": "105ca1c8-9bcd-4879-ecf2-9757b24e468c"
   },
   "execution_count": 13,
   "outputs": [
    {
     "name": "stdout",
     "output_type": "stream",
     "text": [
      "<class 'pandas.core.frame.DataFrame'>\n",
      "RangeIndex: 45222 entries, 0 to 45221\n",
      "Data columns (total 15 columns):\n",
      " #   Column           Non-Null Count  Dtype \n",
      "---  ------           --------------  ----- \n",
      " 0   age              45222 non-null  int64 \n",
      " 1   workclass        45222 non-null  object\n",
      " 2   fnlwgt           45222 non-null  int64 \n",
      " 3   education        45222 non-null  object\n",
      " 4   educational-num  45222 non-null  int64 \n",
      " 5   marital-status   45222 non-null  object\n",
      " 6   occupation       45222 non-null  object\n",
      " 7   relationship     45222 non-null  object\n",
      " 8   race             45222 non-null  object\n",
      " 9   gender           45222 non-null  object\n",
      " 10  capital-gain     45222 non-null  int64 \n",
      " 11  capital-loss     45222 non-null  int64 \n",
      " 12  hours-per-week   45222 non-null  int64 \n",
      " 13  native-country   45222 non-null  object\n",
      " 14  income           45222 non-null  object\n",
      "dtypes: int64(6), object(9)\n",
      "memory usage: 5.2+ MB\n"
     ]
    }
   ]
  },
  {
   "cell_type": "code",
   "source": [
    "#Данный график приводит график часот для людей, годовой доход которых превышает 50000 долларов\n",
    "incMore = data['income'].isin(['>50K'])\n",
    "dfMore = data[incMore]\n",
    "eduMore = dfMore['relationship'].value_counts()\n",
    "plt.bar(x = eduMore.index, height = eduMore.values)"
   ],
   "metadata": {
    "colab": {
     "base_uri": "https://localhost:8080/",
     "height": 282
    },
    "id": "5rCquaHp5FKu",
    "outputId": "e2f0cfe2-dad0-4473-80f2-098553823af7"
   },
   "execution_count": 14,
   "outputs": [
    {
     "data": {
      "text/plain": "<BarContainer object of 6 artists>"
     },
     "execution_count": 14,
     "metadata": {},
     "output_type": "execute_result"
    },
    {
     "data": {
      "text/plain": "<Figure size 640x480 with 1 Axes>",
      "image/png": "[encoded data removed]"
     },
     "metadata": {},
     "output_type": "display_data"
    }
   ]
  },
  {
   "cell_type": "code",
   "source": [
    "#Данный график приводит график часот для людей, годовой доход которых меньше 50000 долларов\n",
    "incLess = data['income'].isin(['<=50K'])\n",
    "dfLess = data[incLess]\n",
    "eduLess = dfLess['relationship'].value_counts()\n",
    "plt.bar(x = eduLess.index, height = eduLess.values)"
   ],
   "metadata": {
    "colab": {
     "base_uri": "https://localhost:8080/",
     "height": 282
    },
    "id": "jdbmhJtL5dZz",
    "outputId": "e57d924c-433e-40ba-9f29-bc06944a9db1"
   },
   "execution_count": 15,
   "outputs": [
    {
     "data": {
      "text/plain": "<BarContainer object of 6 artists>"
     },
     "execution_count": 15,
     "metadata": {},
     "output_type": "execute_result"
    },
    {
     "data": {
      "text/plain": "<Figure size 640x480 with 1 Axes>",
      "image/png": "[encoded data removed]"
     },
     "metadata": {},
     "output_type": "display_data"
    }
   ]
  },
  {
   "cell_type": "code",
   "source": [
    "from sklearn.linear_model import LogisticRegression"
   ],
   "metadata": {
    "id": "2GHoWCcXpix-"
   },
   "execution_count": 17,
   "outputs": []
  },
  {
   "cell_type": "code",
   "source": [
    "X = data[['age', 'workclass', 'education', 'educational-num', 'relationship','occupation', 'marital-status', 'hours-per-week', 'gender', 'income']]\n",
    "X = pd.get_dummies (X, drop_first=True)\n",
    "del X['income_>50K']\n",
    "X.head()"
   ],
   "metadata": {
    "id": "SH2YwyuM7_UO",
    "colab": {
     "base_uri": "https://localhost:8080/",
     "height": 334
    },
    "outputId": "546a71bc-ed4b-4c3e-abbe-c97a6363ccc5"
   },
   "execution_count": 18,
   "outputs": [
    {
     "data": {
      "text/plain": "   age  educational-num  hours-per-week  workclass_Local-gov  \\\n0   25                7              40                    0   \n1   38                9              50                    0   \n2   28               12              40                    1   \n3   44               10              40                    0   \n4   34                6              30                    0   \n\n   workclass_Private  workclass_Self-emp-inc  workclass_Self-emp-not-inc  \\\n0                  1                       0                           0   \n1                  1                       0                           0   \n2                  0                       0                           0   \n3                  1                       0                           0   \n4                  1                       0                           0   \n\n   workclass_State-gov  workclass_Without-pay  education_11th  ...  \\\n0                    0                      0               1  ...   \n1                    0                      0               0  ...   \n2                    0                      0               0  ...   \n3                    0                      0               0  ...   \n4                    0                      0               0  ...   \n\n   occupation_Sales  occupation_Tech-support  occupation_Transport-moving  \\\n0                 0                        0                            0   \n1                 0                        0                            0   \n2                 0                        0                            0   \n3                 0                        0                            0   \n4                 0                        0                            0   \n\n   marital-status_Married-AF-spouse  marital-status_Married-civ-spouse  \\\n0                                 0                                  0   \n1                                 0                                  1   \n2                                 0                                  1   \n3                                 0                                  1   \n4                                 0                                  0   \n\n   marital-status_Married-spouse-absent  marital-status_Never-married  \\\n0                                     0                             1   \n1                                     0                             0   \n2                                     0                             0   \n3                                     0                             0   \n4                                     0                             1   \n\n   marital-status_Separated  marital-status_Widowed  gender_Male  \n0                         0                       0            1  \n1                         0                       0            1  \n2                         0                       0            1  \n3                         0                       0            1  \n4                         0                       0            1  \n\n[5 rows x 49 columns]",
      "text/html": "<div>\n<style scoped>\n    .dataframe tbody tr th:only-of-type {\n        vertical-align: middle;\n    }\n\n    .dataframe tbody tr th {\n        vertical-align: top;\n    }\n\n    .dataframe thead th {\n        text-align: right;\n    }\n</style>\n<table border=\"1\" class=\"dataframe\">\n  <thead>\n    <tr style=\"text-align: right;\">\n      <th></th>\n      <th>age</th>\n      <th>educational-num</th>\n      <th>hours-per-week</th>\n      <th>workclass_Local-gov</th>\n      <th>workclass_Private</th>\n      <th>workclass_Self-emp-inc</th>\n      <th>workclass_Self-emp-not-inc</th>\n      <th>workclass_State-gov</th>\n      <th>workclass_Without-pay</th>\n      <th>education_11th</th>\n      <th>...</th>\n      <th>occupation_Sales</th>\n      <th>occupation_Tech-support</th>\n      <th>occupation_Transport-moving</th>\n      <th>marital-status_Married-AF-spouse</th>\n      <th>marital-status_Married-civ-spouse</th>\n      <th>marital-status_Married-spouse-absent</th>\n      <th>marital-status_Never-married</th>\n      <th>marital-status_Separated</th>\n      <th>marital-status_Widowed</th>\n      <th>gender_Male</th>\n    </tr>\n  </thead>\n  <tbody>\n    <tr>\n      <th>0</th>\n      <td>25</td>\n      <td>7</td>\n      <td>40</td>\n      <td>0</td>\n      <td>1</td>\n      <td>0</td>\n      <td>0</td>\n      <td>0</td>\n      <td>0</td>\n      <td>1</td>\n      <td>...</td>\n      <td>0</td>\n      <td>0</td>\n      <td>0</td>\n      <td>0</td>\n      <td>0</td>\n      <td>0</td>\n      <td>1</td>\n      <td>0</td>\n      <td>0</td>\n      <td>1</td>\n    </tr>\n    <tr>\n      <th>1</th>\n      <td>38</td>\n      <td>9</td>\n      <td>50</td>\n      <td>0</td>\n      <td>1</td>\n      <td>0</td>\n      <td>0</td>\n      <td>0</td>\n      <td>0</td>\n      <td>0</td>\n      <td>...</td>\n      <td>0</td>\n      <td>0</td>\n      <td>0</td>\n      <td>0</td>\n      <td>1</td>\n      <td>0</td>\n      <td>0</td>\n      <td>0</td>\n      <td>0</td>\n      <td>1</td>\n    </tr>\n    <tr>\n      <th>2</th>\n      <td>28</td>\n      <td>12</td>\n      <td>40</td>\n      <td>1</td>\n      <td>0</td>\n      <td>0</td>\n      <td>0</td>\n      <td>0</td>\n      <td>0</td>\n      <td>0</td>\n      <td>...</td>\n      <td>0</td>\n      <td>0</td>\n      <td>0</td>\n      <td>0</td>\n      <td>1</td>\n      <td>0</td>\n      <td>0</td>\n      <td>0</td>\n      <td>0</td>\n      <td>1</td>\n    </tr>\n    <tr>\n      <th>3</th>\n      <td>44</td>\n      <td>10</td>\n      <td>40</td>\n      <td>0</td>\n      <td>1</td>\n      <td>0</td>\n      <td>0</td>\n      <td>0</td>\n      <td>0</td>\n      <td>0</td>\n      <td>...</td>\n      <td>0</td>\n      <td>0</td>\n      <td>0</td>\n      <td>0</td>\n      <td>1</td>\n      <td>0</td>\n      <td>0</td>\n      <td>0</td>\n      <td>0</td>\n      <td>1</td>\n    </tr>\n    <tr>\n      <th>4</th>\n      <td>34</td>\n      <td>6</td>\n      <td>30</td>\n      <td>0</td>\n      <td>1</td>\n      <td>0</td>\n      <td>0</td>\n      <td>0</td>\n      <td>0</td>\n      <td>0</td>\n      <td>...</td>\n      <td>0</td>\n      <td>0</td>\n      <td>0</td>\n      <td>0</td>\n      <td>0</td>\n      <td>0</td>\n      <td>1</td>\n      <td>0</td>\n      <td>0</td>\n      <td>1</td>\n    </tr>\n  </tbody>\n</table>\n<p>5 rows × 49 columns</p>\n</div>"
     },
     "execution_count": 18,
     "metadata": {},
     "output_type": "execute_result"
    }
   ]
  },
  {
   "cell_type": "code",
   "source": [
    "from sklearn.preprocessing import LabelEncoder\n",
    "le = LabelEncoder()"
   ],
   "metadata": {
    "id": "hLYW_0iLsFhl"
   },
   "execution_count": 9,
   "outputs": []
  },
  {
   "cell_type": "code",
   "source": [
    "le.fit(data['income'])\n",
    "le.transform(['<=50K'])"
   ],
   "metadata": {
    "colab": {
     "base_uri": "https://localhost:8080/"
    },
    "id": "ohmtGasBsHkW",
    "outputId": "9ec88358-232b-4c84-fbc9-9d06e15aa718"
   },
   "execution_count": 10,
   "outputs": [
    {
     "output_type": "execute_result",
     "data": {
      "text/plain": [
       "array([0])"
      ]
     },
     "metadata": {},
     "execution_count": 10
    }
   ]
  },
  {
   "cell_type": "code",
   "source": [
    "y = pd.Series(data = le.transform(data['income']))"
   ],
   "metadata": {
    "id": "lOP7UVonRf9D"
   },
   "execution_count": 11,
   "outputs": []
  },
  {
   "cell_type": "code",
   "source": [
    "from sklearn.pipeline import make_pipeline\n",
    "from sklearn.preprocessing import StandardScaler\n",
    "from sklearn.model_selection import train_test_split \n",
    "\n",
    "model = make_pipeline(StandardScaler(), LogisticRegression(max_iter=1000))"
   ],
   "metadata": {
    "id": "vNZFO0q6TUM7"
   },
   "execution_count": 12,
   "outputs": []
  },
  {
   "cell_type": "code",
   "source": [
    "X_train, X_test, y_train, y_test = train_test_split(X, y, test_size=0.2, random_state=42)"
   ],
   "metadata": {
    "id": "GnOR-19mU7AA"
   },
   "execution_count": 13,
   "outputs": []
  },
  {
   "cell_type": "code",
   "source": [
    "model.fit(X_train, y_train)\n",
    "predictions = model.predict(X_test)"
   ],
   "metadata": {
    "id": "TlBO5YlAVDTD"
   },
   "execution_count": 14,
   "outputs": []
  },
  {
   "cell_type": "code",
   "source": [
    "model.predict(X_test)"
   ],
   "metadata": {
    "colab": {
     "base_uri": "https://localhost:8080/"
    },
    "id": "J1bj9J7FVZbO",
    "outputId": "3fc4a311-8352-4dbe-9d38-554f603886f6"
   },
   "execution_count": 15,
   "outputs": [
    {
     "output_type": "execute_result",
     "data": {
      "text/plain": [
       "array([0, 0, 0, ..., 0, 0, 0])"
      ]
     },
     "metadata": {},
     "execution_count": 15
    }
   ]
  },
  {
   "cell_type": "code",
   "source": [
    "model.score(X_train, y_train) "
   ],
   "metadata": {
    "colab": {
     "base_uri": "https://localhost:8080/"
    },
    "id": "aQ3me8UiVh8c",
    "outputId": "f3400a95-3ce4-4b7b-8ee2-23ef16e99f87"
   },
   "execution_count": 16,
   "outputs": [
    {
     "output_type": "execute_result",
     "data": {
      "text/plain": [
       "0.8309146695414213"
      ]
     },
     "metadata": {},
     "execution_count": 16
    }
   ]
  },
  {
   "cell_type": "code",
   "source": [
    "model.score(X_test, y_test) "
   ],
   "metadata": {
    "colab": {
     "base_uri": "https://localhost:8080/"
    },
    "id": "7Mi5F_3mVj-2",
    "outputId": "9b0e2947-ffd6-41d2-9e95-a3fd73d8188c"
   },
   "execution_count": 17,
   "outputs": [
    {
     "output_type": "execute_result",
     "data": {
      "text/plain": [
       "0.8318407960199005"
      ]
     },
     "metadata": {},
     "execution_count": 17
    }
   ]
  },
  {
   "cell_type": "code",
   "source": [
    "model.predict_proba(X_test)[0]"
   ],
   "metadata": {
    "colab": {
     "base_uri": "https://localhost:8080/"
    },
    "id": "6m4HY05LXjDX",
    "outputId": "57725145-d83a-4bcf-e58d-5bf53ad1021f"
   },
   "execution_count": 18,
   "outputs": [
    {
     "output_type": "execute_result",
     "data": {
      "text/plain": [
       "array([0.99603399, 0.00396601])"
      ]
     },
     "metadata": {},
     "execution_count": 18
    }
   ]
  },
  {
   "cell_type": "code",
   "source": [
    "from sklearn.svm import SVC\n",
    "clf = make_pipeline(StandardScaler(), SVC(gamma='auto')) \n"
   ],
   "metadata": {
    "id": "UUxty1xbbgFV"
   },
   "execution_count": 19,
   "outputs": []
  },
  {
   "cell_type": "code",
   "source": [
    "clf.fit(X_train, y_train) "
   ],
   "metadata": {
    "id": "q3HCj3LAcEyU",
    "colab": {
     "base_uri": "https://localhost:8080/"
    },
    "outputId": "be2dfebc-fab1-4698-b9aa-0d776e0c2a02"
   },
   "execution_count": 20,
   "outputs": [
    {
     "output_type": "execute_result",
     "data": {
      "text/plain": [
       "Pipeline(steps=[('standardscaler', StandardScaler()),\n",
       "                ('svc', SVC(gamma='auto'))])"
      ]
     },
     "metadata": {},
     "execution_count": 20
    }
   ]
  },
  {
   "cell_type": "code",
   "source": [
    "clf.score(X_train, y_train) "
   ],
   "metadata": {
    "colab": {
     "base_uri": "https://localhost:8080/"
    },
    "id": "OdPUC7YXdRs-",
    "outputId": "f6a2aa08-3178-4b59-a3c1-05c5c6ecf925"
   },
   "execution_count": 21,
   "outputs": [
    {
     "output_type": "execute_result",
     "data": {
      "text/plain": [
       "0.8356690715095226"
      ]
     },
     "metadata": {},
     "execution_count": 21
    }
   ]
  },
  {
   "cell_type": "code",
   "source": [
    "clf.score(X_test, y_test) "
   ],
   "metadata": {
    "colab": {
     "base_uri": "https://localhost:8080/"
    },
    "id": "LHEU5m8JdeD0",
    "outputId": "f8445001-66aa-4a82-c826-10be7b3c834d"
   },
   "execution_count": 22,
   "outputs": [
    {
     "output_type": "execute_result",
     "data": {
      "text/plain": [
       "0.8352681039248203"
      ]
     },
     "metadata": {},
     "execution_count": 22
    }
   ]
  },
  {
   "cell_type": "markdown",
   "source": [
    "**Сравнение результатов логитической регрессии**\n",
    "При проведении обучения модели получились следующие результаты: при работе с данными для обучения модель показала точность ~ 83,1 %, а при работе с тестовыми данными модель показала точность 83,2 %, что на 0,1 % выше точности обучения. В данном случае точность предсказания тестовых данных была выше чем, точность обучения.\n",
    "\n",
    "**Сравнение результатов метода опорных векторов**\n",
    "При проведении обучения модели получились следующие результаты: при работе с данными для обучения модель показала точность ~ 83,57 %, а при работе с тестовыми данными модель показала точность 83,53 %, что на 0,04 % ниже точности обучения. В данном случае точность предсказания тестовых данных была чуть ниже, чем точность обучения.\n",
    "\n",
    "1. Был исправлен датасет (удалены пропуски).\n",
    "2. Были отобраны признаки, которые, по-моему мнению, больше всего влияют на суммарный доход. Отбор был осуществлен на основе построенных графиков.\n",
    "3. После чего была произведена пререкодировка категориальных признаков.\n",
    "4. Разбиение данных на **обучающие** и **тестовые**\n",
    "5. Обучение модели логистической регрессии и получение результатов\n",
    "6. Обучение модели с помощью метода опорных векторов и получение результатов\n",
    "\n",
    "При сравнении результатов предсказания уровеня дохода с помощью логистической регрессии и метода опорных векторов, второй показал более высокую точность.\n",
    "\n",
    "С моей точки зрения модели показали достаточно наплохие результаты, однако если бы данная модель использовалась для получения каких-либо более важных данных, то такой результат мог бы привести к достаточно серьезным убыткам. Думаю, что для повышения качества можно провести более точный анализ данных и выбрать более важные признаки из перечня, а также использовать специальные алгоритмы которые повышает точность модели."
   ],
   "metadata": {
    "id": "zZRW3N_LdwyW"
   }
  }
 ]
}
